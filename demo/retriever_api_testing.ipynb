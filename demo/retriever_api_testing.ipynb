{
  "cells": [
    {
      "cell_type": "code",
      "execution_count": null,
      "id": "16e4a927",
      "metadata": {
        "colab": {
          "base_uri": "https://localhost:8080/",
          "height": 70
        },
        "id": "16e4a927",
        "outputId": "63407a66-3e0e-48db-a0c7-cacf2f46ead2"
      },
      "outputs": [],
      "source": [
        "\"\"\"# Retriever Essentials API Testing Notebook\n",
        "\n",
        "This notebook interacts with the backend API to test various endpoints and verify the database operations.\n",
        "It will:\n",
        "- Send HTTP requests to API endpoints\n",
        "- Display JSON responses\n",
        "- Optionally execute SQL queries for direct database interaction\n",
        "\n",
        "Make sure the backend server is running before executing the cells.\n",
        "\"\"\""
      ]
    },
    {
      "cell_type": "code",
      "execution_count": null,
      "id": "999b0bfb",
      "metadata": {
        "colab": {
          "base_uri": "https://localhost:8080/"
        },
        "id": "999b0bfb",
        "outputId": "a772ea16-581c-4f0d-8ed1-a1e2b1e6f348"
      },
      "outputs": [],
      "source": [
        "!pip install pandas mysql-connector-python\n",
        "!pip install requests"
      ]
    },
    {
      "cell_type": "code",
      "execution_count": null,
      "id": "QLC3HjxpuZT_",
      "metadata": {
        "colab": {
          "base_uri": "https://localhost:8080/"
        },
        "id": "QLC3HjxpuZT_",
        "outputId": "7d3570eb-d384-42d1-afcd-ab63e0c7313e"
      },
      "outputs": [],
      "source": [
        "import requests\n",
        "import json\n",
        "\n",
        "# Define the base API URL\n",
        "BASE_URL = \"http://localhost:8080/api\"\n",
        "\n",
        "def get_response(endpoint):\n",
        "    \"\"\"\n",
        "    Send a GET request to the specified API endpoint and display the JSON response.\n",
        "\n",
        "    Parameters:\n",
        "    - endpoint (str): The API endpoint (e.g., \"items\", \"purchase-orders\")\n",
        "\n",
        "    Returns:\n",
        "    - None: Prints the JSON response\n",
        "    \"\"\"\n",
        "    url = f\"{BASE_URL}/{endpoint}\"\n",
        "    response = requests.get(url)\n",
        "\n",
        "    if response.status_code == 200:\n",
        "        data = response.json()\n",
        "        print(\"\\n=== Response ===\")\n",
        "        print(json.dumps(data, indent=4))  # Pretty-print JSON for better readability\n",
        "    else:\n",
        "        print(f\"Error {response.status_code}: {response.text}\")\n",
        "\n",
        "def post_data(endpoint, data):\n",
        "    \"\"\"\n",
        "    Send a POST request to add new data to the API.\n",
        "\n",
        "    Parameters:\n",
        "    - endpoint (str): The API endpoint (e.g., \"items\")\n",
        "    - data (dict): The data to send in JSON format\n",
        "\n",
        "    Returns:\n",
        "    - None: Prints the API response or error message\n",
        "    \"\"\"\n",
        "    url = f\"{BASE_URL}/{endpoint}\"\n",
        "    headers = {\"Content-Type\": \"application/json\"}\n",
        "    response = requests.post(url, json=data, headers=headers)\n",
        "\n",
        "    if response.status_code == 200:\n",
        "        print(\"\\nSuccessfully added!\")\n",
        "        print(response.json())  # Print the response for confirmation\n",
        "    else:\n",
        "        print(f\"Error {response.status_code}: {response.text}\")\n",
        "\n",
        "def main_menu():\n",
        "    \"\"\"\n",
        "    Display a simple command-line interface (CLI) for interacting with the backend API.\n",
        "\n",
        "    Users can:\n",
        "    - View all items in inventory\n",
        "    - Add a new item to the database\n",
        "    - View all purchase orders\n",
        "    - Exit the menu\n",
        "\n",
        "    The menu runs in a loop until the user chooses to exit.\n",
        "    \"\"\"\n",
        "    while True:\n",
        "        print(\"\\n===== Retriever Essentials Backend Menu =====\")\n",
        "        print(\"1. View All Items\")\n",
        "        print(\"2. Add New Item\")\n",
        "        print(\"3. View All Purchase Orders\")\n",
        "        print(\"4. Exit\")\n",
        "        choice = input(\"Enter your choice: \")\n",
        "\n",
        "        if choice == \"1\":\n",
        "            get_response(\"item\")  # Fetch all items from the inventory\n",
        "        elif choice == \"2\":\n",
        "            # Gather user input for a new item\n",
        "            name = input(\"Enter item name: \")\n",
        "            itemDescription = input(\"Enter item descrription: \")\n",
        "            nutritionFacts = input(\"Enter nutrition facts: \")\n",
        "            picturePath = input(\"Enter picture URL: \")\n",
        "            category = input(\"Enter category: \")\n",
        "            currentCount = int(input(\"Enter quantity: \"))\n",
        "            itemLimit = int(input(\"Enter item limit: \"))\n",
        "            pricePerUnit = double(\"Enter price per unit: \")\n",
        "            # Create the JSON payload for the new item\n",
        "\n",
        "            new_item = {\n",
        "                \"itemName\": name,\n",
        "                \"itemDescription\": itemDescription,\n",
        "                \"nutritionFacts\": nutritionFacts,\n",
        "                \"picturePath\": picturePath,\n",
        "                \"category\": category,\n",
        "                \"currentCount\": currentCount,\n",
        "                \"itemLimit\": itemLimit,\n",
        "                \"pricePerUnit\": pricePerUnit\n",
        "            }\n",
        "\n",
        "            post_data(\"item\", new_item)  # Send the data to the API\n",
        "        elif choice == \"3\":\n",
        "            get_response(\"purchase\")  # Fetch all purchase orders\n",
        "        elif choice == \"4\":\n",
        "            print(\"\\nExiting...\")\n",
        "            break  # Exit the loop and terminate the program\n",
        "        else:\n",
        "            print(\"\\nInvalid choice, please try again.\")\n",
        "\n",
        "# Run the menu inside Jupyter Notebook\n",
        "main_menu()"
      ]
    }
  ],
  "metadata": {
    "colab": {
      "provenance": []
    },
    "kernelspec": {
      "display_name": "Python 3",
      "name": "python3"
    },
    "language_info": {
      "codemirror_mode": {
        "name": "ipython",
        "version": 3
      },
      "file_extension": ".py",
      "mimetype": "text/x-python",
      "name": "python",
      "nbconvert_exporter": "python",
      "pygments_lexer": "ipython3",
      "version": "3.12.9"
    }
  },
  "nbformat": 4,
  "nbformat_minor": 5
}
